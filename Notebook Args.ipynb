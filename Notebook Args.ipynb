{
 "cells": [
  {
   "cell_type": "markdown",
   "metadata": {},
   "source": [
    "## Funciones con argumentos no definidos:\n",
    "***"
   ]
  },
  {
   "cell_type": "markdown",
   "metadata": {},
   "source": [
    "### N#1 Calcular el promedio de 5 valores:"
   ]
  },
  {
   "cell_type": "markdown",
   "metadata": {},
   "source": [
    "- Original:"
   ]
  },
  {
   "cell_type": "code",
   "execution_count": null,
   "metadata": {},
   "outputs": [],
   "source": [
    "def promedio (a: float, b: float, c: float, d: float, e: float) -> float:\n",
    "    media = (a + b + c + d + e) / 5\n",
    "    return media"
   ]
  },
  {
   "cell_type": "markdown",
   "metadata": {},
   "source": [
    "- En *args:"
   ]
  },
  {
   "cell_type": "code",
   "execution_count": null,
   "metadata": {},
   "outputs": [],
   "source": [
    "def promedio (*args) -> float:\n",
    "    suma: float = 0\n",
    "    for num in args:\n",
    "        suma += num\n",
    "    media = suma/len(args)\n",
    "    return media"
   ]
  },
  {
   "cell_type": "markdown",
   "metadata": {},
   "source": [
    "### N#2 Calcular el promedio multiplicativo de 5 valores:"
   ]
  },
  {
   "cell_type": "markdown",
   "metadata": {},
   "source": [
    "- Original:"
   ]
  },
  {
   "cell_type": "code",
   "execution_count": null,
   "metadata": {},
   "outputs": [],
   "source": [
    "def prom_multi (a: float, b: float, c: float, d: float, e: float) -> float:\n",
    "    multiplicacion = a * b * c * d * e\n",
    "    promedio_multiplicativo = multiplicacion**(1/5)\n",
    "    return promedio_multiplicativo"
   ]
  },
  {
   "cell_type": "markdown",
   "metadata": {},
   "source": [
    "- En args:"
   ]
  },
  {
   "cell_type": "code",
   "execution_count": null,
   "metadata": {},
   "outputs": [],
   "source": [
    "def prom_multi (*args) -> float:\n",
    "    multiplicacion: float = 1\n",
    "    for num in args:\n",
    "        multiplicacion *= num\n",
    "    promedio_multiplicativo = multiplicacion**(1/len(args))\n",
    "    return promedio_multiplicativo"
   ]
  },
  {
   "cell_type": "markdown",
   "metadata": {},
   "source": [
    "### N#3 Ordenar los datos de menor a mayor:"
   ]
  },
  {
   "cell_type": "markdown",
   "metadata": {},
   "source": [
    "- Original:"
   ]
  },
  {
   "cell_type": "code",
   "execution_count": null,
   "metadata": {},
   "outputs": [],
   "source": [
    "def ascender (a: float, b: float, c: float, d: float, e: float) -> float:\n",
    "    if a > b:\n",
    "        a, b = b, a\n",
    "    if a > c:\n",
    "        a, c = c, a\n",
    "    if a > d:\n",
    "        a, d = d, a\n",
    "    if a > e:\n",
    "        a, e = e, a\n",
    "    if b > c:\n",
    "        b, c = c, b\n",
    "    if b > d:\n",
    "        b, d = d, b\n",
    "    if b > e:\n",
    "        b, e = e, b\n",
    "    if c > d:\n",
    "        c, d = d, c\n",
    "    if c > e:\n",
    "        c, e = e, c\n",
    "    if d > e:\n",
    "        d, e = e, d\n",
    "    arriba = a,b,c,d,e\n",
    "    return arriba"
   ]
  },
  {
   "cell_type": "markdown",
   "metadata": {},
   "source": [
    "- En args:"
   ]
  },
  {
   "cell_type": "code",
   "execution_count": null,
   "metadata": {},
   "outputs": [],
   "source": [
    "def ascender (*args) -> float:\n",
    "    lista = list(args)\n",
    "    lista = lista.sort\n",
    "    return lista"
   ]
  }
 ],
 "metadata": {
  "kernelspec": {
   "display_name": "Python 3",
   "language": "python",
   "name": "python3"
  },
  "language_info": {
   "codemirror_mode": {
    "name": "ipython",
    "version": 3
   },
   "file_extension": ".py",
   "mimetype": "text/x-python",
   "name": "python",
   "nbconvert_exporter": "python",
   "pygments_lexer": "ipython3",
   "version": "3.12.2"
  }
 },
 "nbformat": 4,
 "nbformat_minor": 2
}
